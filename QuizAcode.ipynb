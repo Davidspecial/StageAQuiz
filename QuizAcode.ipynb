{
 "cells": [
  {
   "cell_type": "code",
   "execution_count": 1,
   "id": "f784118f-cec7-4c9c-ad8b-8cf68c940f3f",
   "metadata": {},
   "outputs": [],
   "source": [
    "import pandas as pd\n",
    "\n",
    "url='https://github.com/HamoyeHQ/HDSC-Introduction-to-Python-for-machine-learning/files/7768140/FoodBalanceSheets_E_Africa_NOFLAG.csv'\n",
    "DataSet = pd.read_csv(url, encoding='ISO-8859-1') #can also use encoder='latin-1'"
   ]
  },
  {
   "cell_type": "code",
   "execution_count": 9,
   "id": "747c05a1-3556-44a3-bbeb-dbfacd041e31",
   "metadata": {
    "collapsed": true,
    "jupyter": {
     "outputs_hidden": true
    },
    "tags": []
   },
   "outputs": [
    {
     "data": {
      "text/html": [
       "<div>\n",
       "<style scoped>\n",
       "    .dataframe tbody tr th:only-of-type {\n",
       "        vertical-align: middle;\n",
       "    }\n",
       "\n",
       "    .dataframe tbody tr th {\n",
       "        vertical-align: top;\n",
       "    }\n",
       "\n",
       "    .dataframe thead th {\n",
       "        text-align: right;\n",
       "    }\n",
       "</style>\n",
       "<table border=\"1\" class=\"dataframe\">\n",
       "  <thead>\n",
       "    <tr style=\"text-align: right;\">\n",
       "      <th></th>\n",
       "      <th>Area Code</th>\n",
       "      <th>Area</th>\n",
       "      <th>Item Code</th>\n",
       "      <th>Item</th>\n",
       "      <th>Element Code</th>\n",
       "      <th>Element</th>\n",
       "      <th>Unit</th>\n",
       "      <th>Y2014</th>\n",
       "      <th>Y2015</th>\n",
       "      <th>Y2016</th>\n",
       "      <th>Y2017</th>\n",
       "      <th>Y2018</th>\n",
       "    </tr>\n",
       "  </thead>\n",
       "  <tbody>\n",
       "    <tr>\n",
       "      <th>0</th>\n",
       "      <td>4</td>\n",
       "      <td>Algeria</td>\n",
       "      <td>2501</td>\n",
       "      <td>Population</td>\n",
       "      <td>511</td>\n",
       "      <td>Total Population - Both sexes</td>\n",
       "      <td>1000 persons</td>\n",
       "      <td>38924.00</td>\n",
       "      <td>39728.00</td>\n",
       "      <td>40551.00</td>\n",
       "      <td>41389.00</td>\n",
       "      <td>42228.00</td>\n",
       "    </tr>\n",
       "    <tr>\n",
       "      <th>1</th>\n",
       "      <td>4</td>\n",
       "      <td>Algeria</td>\n",
       "      <td>2501</td>\n",
       "      <td>Population</td>\n",
       "      <td>5301</td>\n",
       "      <td>Domestic supply quantity</td>\n",
       "      <td>1000 tonnes</td>\n",
       "      <td>0.00</td>\n",
       "      <td>0.00</td>\n",
       "      <td>0.00</td>\n",
       "      <td>0.00</td>\n",
       "      <td>0.00</td>\n",
       "    </tr>\n",
       "    <tr>\n",
       "      <th>2</th>\n",
       "      <td>4</td>\n",
       "      <td>Algeria</td>\n",
       "      <td>2901</td>\n",
       "      <td>Grand Total</td>\n",
       "      <td>664</td>\n",
       "      <td>Food supply (kcal/capita/day)</td>\n",
       "      <td>kcal/capita/day</td>\n",
       "      <td>3377.00</td>\n",
       "      <td>3379.00</td>\n",
       "      <td>3372.00</td>\n",
       "      <td>3341.00</td>\n",
       "      <td>3322.00</td>\n",
       "    </tr>\n",
       "    <tr>\n",
       "      <th>3</th>\n",
       "      <td>4</td>\n",
       "      <td>Algeria</td>\n",
       "      <td>2901</td>\n",
       "      <td>Grand Total</td>\n",
       "      <td>674</td>\n",
       "      <td>Protein supply quantity (g/capita/day)</td>\n",
       "      <td>g/capita/day</td>\n",
       "      <td>94.90</td>\n",
       "      <td>94.35</td>\n",
       "      <td>94.72</td>\n",
       "      <td>92.82</td>\n",
       "      <td>91.83</td>\n",
       "    </tr>\n",
       "    <tr>\n",
       "      <th>4</th>\n",
       "      <td>4</td>\n",
       "      <td>Algeria</td>\n",
       "      <td>2901</td>\n",
       "      <td>Grand Total</td>\n",
       "      <td>684</td>\n",
       "      <td>Fat supply quantity (g/capita/day)</td>\n",
       "      <td>g/capita/day</td>\n",
       "      <td>80.06</td>\n",
       "      <td>79.36</td>\n",
       "      <td>77.40</td>\n",
       "      <td>80.19</td>\n",
       "      <td>77.28</td>\n",
       "    </tr>\n",
       "  </tbody>\n",
       "</table>\n",
       "</div>"
      ],
      "text/plain": [
       "   Area Code     Area  Item Code         Item  Element Code  \\\n",
       "0          4  Algeria       2501   Population           511   \n",
       "1          4  Algeria       2501   Population          5301   \n",
       "2          4  Algeria       2901  Grand Total           664   \n",
       "3          4  Algeria       2901  Grand Total           674   \n",
       "4          4  Algeria       2901  Grand Total           684   \n",
       "\n",
       "                                  Element             Unit     Y2014  \\\n",
       "0           Total Population - Both sexes     1000 persons  38924.00   \n",
       "1                Domestic supply quantity      1000 tonnes      0.00   \n",
       "2           Food supply (kcal/capita/day)  kcal/capita/day   3377.00   \n",
       "3  Protein supply quantity (g/capita/day)     g/capita/day     94.90   \n",
       "4      Fat supply quantity (g/capita/day)     g/capita/day     80.06   \n",
       "\n",
       "      Y2015     Y2016     Y2017     Y2018  \n",
       "0  39728.00  40551.00  41389.00  42228.00  \n",
       "1      0.00      0.00      0.00      0.00  \n",
       "2   3379.00   3372.00   3341.00   3322.00  \n",
       "3     94.35     94.72     92.82     91.83  \n",
       "4     79.36     77.40     80.19     77.28  "
      ]
     },
     "execution_count": 9,
     "metadata": {},
     "output_type": "execute_result"
    }
   ],
   "source": [
    "DataSet.head()"
   ]
  },
  {
   "cell_type": "code",
   "execution_count": 12,
   "id": "1a0ba771-fc4a-4aaa-94f4-f5b5a06f594b",
   "metadata": {
    "collapsed": true,
    "jupyter": {
     "outputs_hidden": true
    },
    "tags": []
   },
   "outputs": [
    {
     "data": {
      "text/plain": [
       "Item\n",
       "Alcohol, Non-Food      275\n",
       "Alcoholic Beverages    562\n",
       "Animal Products        135\n",
       "Animal fats            635\n",
       "Apples and products    510\n",
       "                      ... \n",
       "Vegetables, Other      575\n",
       "Vegetal Products       135\n",
       "Wheat and products     645\n",
       "Wine                   491\n",
       "Yams                   318\n",
       "Name: Y2014, Length: 119, dtype: int64"
      ]
     },
     "execution_count": 12,
     "metadata": {},
     "output_type": "execute_result"
    }
   ],
   "source": [
    "DataSet.groupby('Item')['Y2014'].count()"
   ]
  },
  {
   "cell_type": "code",
   "execution_count": 13,
   "id": "36e7f965-7999-499c-835f-33269f841d00",
   "metadata": {
    "collapsed": true,
    "jupyter": {
     "outputs_hidden": true
    },
    "tags": []
   },
   "outputs": [
    {
     "data": {
      "text/html": [
       "<div>\n",
       "<style scoped>\n",
       "    .dataframe tbody tr th:only-of-type {\n",
       "        vertical-align: middle;\n",
       "    }\n",
       "\n",
       "    .dataframe tbody tr th {\n",
       "        vertical-align: top;\n",
       "    }\n",
       "\n",
       "    .dataframe thead th {\n",
       "        text-align: right;\n",
       "    }\n",
       "</style>\n",
       "<table border=\"1\" class=\"dataframe\">\n",
       "  <thead>\n",
       "    <tr style=\"text-align: right;\">\n",
       "      <th></th>\n",
       "      <th>Area Code</th>\n",
       "      <th>Area</th>\n",
       "      <th>Item Code</th>\n",
       "      <th>Item</th>\n",
       "      <th>Element Code</th>\n",
       "      <th>Element</th>\n",
       "      <th>Unit</th>\n",
       "      <th>Y2014</th>\n",
       "      <th>Y2015</th>\n",
       "      <th>Y2016</th>\n",
       "      <th>Y2017</th>\n",
       "      <th>Y2018</th>\n",
       "    </tr>\n",
       "  </thead>\n",
       "  <tbody>\n",
       "    <tr>\n",
       "      <th>count</th>\n",
       "      <td>60943.000000</td>\n",
       "      <td>60943</td>\n",
       "      <td>60943.000000</td>\n",
       "      <td>60943</td>\n",
       "      <td>60943.000000</td>\n",
       "      <td>60943</td>\n",
       "      <td>60943</td>\n",
       "      <td>59354.000000</td>\n",
       "      <td>59395.000000</td>\n",
       "      <td>59408.000000</td>\n",
       "      <td>59437.000000</td>\n",
       "      <td>59507.000000</td>\n",
       "    </tr>\n",
       "    <tr>\n",
       "      <th>unique</th>\n",
       "      <td>NaN</td>\n",
       "      <td>49</td>\n",
       "      <td>NaN</td>\n",
       "      <td>119</td>\n",
       "      <td>NaN</td>\n",
       "      <td>18</td>\n",
       "      <td>5</td>\n",
       "      <td>NaN</td>\n",
       "      <td>NaN</td>\n",
       "      <td>NaN</td>\n",
       "      <td>NaN</td>\n",
       "      <td>NaN</td>\n",
       "    </tr>\n",
       "    <tr>\n",
       "      <th>top</th>\n",
       "      <td>NaN</td>\n",
       "      <td>Kenya</td>\n",
       "      <td>NaN</td>\n",
       "      <td>Milk - Excluding Butter</td>\n",
       "      <td>NaN</td>\n",
       "      <td>Domestic supply quantity</td>\n",
       "      <td>1000 tonnes</td>\n",
       "      <td>NaN</td>\n",
       "      <td>NaN</td>\n",
       "      <td>NaN</td>\n",
       "      <td>NaN</td>\n",
       "      <td>NaN</td>\n",
       "    </tr>\n",
       "    <tr>\n",
       "      <th>freq</th>\n",
       "      <td>NaN</td>\n",
       "      <td>1560</td>\n",
       "      <td>NaN</td>\n",
       "      <td>1262</td>\n",
       "      <td>NaN</td>\n",
       "      <td>5295</td>\n",
       "      <td>40933</td>\n",
       "      <td>NaN</td>\n",
       "      <td>NaN</td>\n",
       "      <td>NaN</td>\n",
       "      <td>NaN</td>\n",
       "      <td>NaN</td>\n",
       "    </tr>\n",
       "    <tr>\n",
       "      <th>mean</th>\n",
       "      <td>134.265576</td>\n",
       "      <td>NaN</td>\n",
       "      <td>2687.176706</td>\n",
       "      <td>NaN</td>\n",
       "      <td>3814.856456</td>\n",
       "      <td>NaN</td>\n",
       "      <td>NaN</td>\n",
       "      <td>134.196282</td>\n",
       "      <td>135.235966</td>\n",
       "      <td>136.555222</td>\n",
       "      <td>140.917765</td>\n",
       "      <td>143.758381</td>\n",
       "    </tr>\n",
       "    <tr>\n",
       "      <th>std</th>\n",
       "      <td>72.605709</td>\n",
       "      <td>NaN</td>\n",
       "      <td>146.055739</td>\n",
       "      <td>NaN</td>\n",
       "      <td>2212.007033</td>\n",
       "      <td>NaN</td>\n",
       "      <td>NaN</td>\n",
       "      <td>1567.663696</td>\n",
       "      <td>1603.403984</td>\n",
       "      <td>1640.007194</td>\n",
       "      <td>1671.862359</td>\n",
       "      <td>1710.782658</td>\n",
       "    </tr>\n",
       "    <tr>\n",
       "      <th>min</th>\n",
       "      <td>4.000000</td>\n",
       "      <td>NaN</td>\n",
       "      <td>2501.000000</td>\n",
       "      <td>NaN</td>\n",
       "      <td>511.000000</td>\n",
       "      <td>NaN</td>\n",
       "      <td>NaN</td>\n",
       "      <td>-1796.000000</td>\n",
       "      <td>-3161.000000</td>\n",
       "      <td>-3225.000000</td>\n",
       "      <td>-1582.000000</td>\n",
       "      <td>-3396.000000</td>\n",
       "    </tr>\n",
       "    <tr>\n",
       "      <th>25%</th>\n",
       "      <td>74.000000</td>\n",
       "      <td>NaN</td>\n",
       "      <td>2562.000000</td>\n",
       "      <td>NaN</td>\n",
       "      <td>684.000000</td>\n",
       "      <td>NaN</td>\n",
       "      <td>NaN</td>\n",
       "      <td>0.000000</td>\n",
       "      <td>0.000000</td>\n",
       "      <td>0.000000</td>\n",
       "      <td>0.000000</td>\n",
       "      <td>0.000000</td>\n",
       "    </tr>\n",
       "    <tr>\n",
       "      <th>50%</th>\n",
       "      <td>136.000000</td>\n",
       "      <td>NaN</td>\n",
       "      <td>2630.000000</td>\n",
       "      <td>NaN</td>\n",
       "      <td>5142.000000</td>\n",
       "      <td>NaN</td>\n",
       "      <td>NaN</td>\n",
       "      <td>0.090000</td>\n",
       "      <td>0.080000</td>\n",
       "      <td>0.080000</td>\n",
       "      <td>0.100000</td>\n",
       "      <td>0.070000</td>\n",
       "    </tr>\n",
       "    <tr>\n",
       "      <th>75%</th>\n",
       "      <td>195.000000</td>\n",
       "      <td>NaN</td>\n",
       "      <td>2775.000000</td>\n",
       "      <td>NaN</td>\n",
       "      <td>5511.000000</td>\n",
       "      <td>NaN</td>\n",
       "      <td>NaN</td>\n",
       "      <td>8.340000</td>\n",
       "      <td>8.460000</td>\n",
       "      <td>8.430000</td>\n",
       "      <td>9.000000</td>\n",
       "      <td>9.000000</td>\n",
       "    </tr>\n",
       "    <tr>\n",
       "      <th>max</th>\n",
       "      <td>276.000000</td>\n",
       "      <td>NaN</td>\n",
       "      <td>2961.000000</td>\n",
       "      <td>NaN</td>\n",
       "      <td>5911.000000</td>\n",
       "      <td>NaN</td>\n",
       "      <td>NaN</td>\n",
       "      <td>176405.000000</td>\n",
       "      <td>181137.000000</td>\n",
       "      <td>185960.000000</td>\n",
       "      <td>190873.000000</td>\n",
       "      <td>195875.000000</td>\n",
       "    </tr>\n",
       "  </tbody>\n",
       "</table>\n",
       "</div>"
      ],
      "text/plain": [
       "           Area Code   Area     Item Code                     Item  \\\n",
       "count   60943.000000  60943  60943.000000                    60943   \n",
       "unique           NaN     49           NaN                      119   \n",
       "top              NaN  Kenya           NaN  Milk - Excluding Butter   \n",
       "freq             NaN   1560           NaN                     1262   \n",
       "mean      134.265576    NaN   2687.176706                      NaN   \n",
       "std        72.605709    NaN    146.055739                      NaN   \n",
       "min         4.000000    NaN   2501.000000                      NaN   \n",
       "25%        74.000000    NaN   2562.000000                      NaN   \n",
       "50%       136.000000    NaN   2630.000000                      NaN   \n",
       "75%       195.000000    NaN   2775.000000                      NaN   \n",
       "max       276.000000    NaN   2961.000000                      NaN   \n",
       "\n",
       "        Element Code                   Element         Unit          Y2014  \\\n",
       "count   60943.000000                     60943        60943   59354.000000   \n",
       "unique           NaN                        18            5            NaN   \n",
       "top              NaN  Domestic supply quantity  1000 tonnes            NaN   \n",
       "freq             NaN                      5295        40933            NaN   \n",
       "mean     3814.856456                       NaN          NaN     134.196282   \n",
       "std      2212.007033                       NaN          NaN    1567.663696   \n",
       "min       511.000000                       NaN          NaN   -1796.000000   \n",
       "25%       684.000000                       NaN          NaN       0.000000   \n",
       "50%      5142.000000                       NaN          NaN       0.090000   \n",
       "75%      5511.000000                       NaN          NaN       8.340000   \n",
       "max      5911.000000                       NaN          NaN  176405.000000   \n",
       "\n",
       "                Y2015          Y2016          Y2017          Y2018  \n",
       "count    59395.000000   59408.000000   59437.000000   59507.000000  \n",
       "unique            NaN            NaN            NaN            NaN  \n",
       "top               NaN            NaN            NaN            NaN  \n",
       "freq              NaN            NaN            NaN            NaN  \n",
       "mean       135.235966     136.555222     140.917765     143.758381  \n",
       "std       1603.403984    1640.007194    1671.862359    1710.782658  \n",
       "min      -3161.000000   -3225.000000   -1582.000000   -3396.000000  \n",
       "25%          0.000000       0.000000       0.000000       0.000000  \n",
       "50%          0.080000       0.080000       0.100000       0.070000  \n",
       "75%          8.460000       8.430000       9.000000       9.000000  \n",
       "max     181137.000000  185960.000000  190873.000000  195875.000000  "
      ]
     },
     "execution_count": 13,
     "metadata": {},
     "output_type": "execute_result"
    }
   ],
   "source": [
    " DataSet.describe(include='all')  #question 12"
   ]
  },
  {
   "cell_type": "code",
   "execution_count": 16,
   "id": "6d4c94d4-d1fa-41c6-a16a-b87746a70d35",
   "metadata": {
    "collapsed": true,
    "jupyter": {
     "outputs_hidden": true
    },
    "tags": []
   },
   "outputs": [
    {
     "data": {
      "text/plain": [
       "Area Code          0\n",
       "Area               0\n",
       "Item Code          0\n",
       "Item               0\n",
       "Element Code       0\n",
       "Element            0\n",
       "Unit               0\n",
       "Y2014           1589\n",
       "Y2015           1548\n",
       "Y2016           1535\n",
       "Y2017           1506\n",
       "Y2018           1436\n",
       "dtype: int64"
      ]
     },
     "execution_count": 16,
     "metadata": {},
     "output_type": "execute_result"
    }
   ],
   "source": [
    "DataSet.isnull().sum() #question 13"
   ]
  },
  {
   "cell_type": "code",
   "execution_count": 63,
   "id": "889ca192-9cbc-4de4-8c19-580454c28864",
   "metadata": {
    "collapsed": true,
    "jupyter": {
     "outputs_hidden": true
    },
    "tags": []
   },
   "outputs": [
    {
     "data": {
      "text/plain": [
       "Element Code\n",
       "511     1031585.00\n",
       "645       49650.63\n",
       "664      454257.00\n",
       "674       11836.46\n",
       "684       10225.56\n",
       "5072      58749.83\n",
       "5123     153223.00\n",
       "5131     282923.00\n",
       "5142    1212332.49\n",
       "5154      78718.13\n",
       "5170      30149.00\n",
       "5171        416.00\n",
       "5301    1996716.35\n",
       "5511    1931287.75\n",
       "5521     216927.89\n",
       "5527      21922.92\n",
       "5611     274144.48\n",
       "5911     150020.64\n",
       "Name: Y2014, dtype: float64"
      ]
     },
     "execution_count": 63,
     "metadata": {},
     "output_type": "execute_result"
    }
   ],
   "source": [
    "DataSet.groupby('Element Code')['Y2014'].sum() #question14"
   ]
  },
  {
   "cell_type": "code",
   "execution_count": 67,
   "id": "597e800f-0167-448c-93cd-a79c1374b6a6",
   "metadata": {
    "tags": []
   },
   "outputs": [
    {
     "data": {
      "text/plain": [
       "Element\n",
       "Domestic supply quantity                  1996716.35\n",
       "Export Quantity                            150020.64\n",
       "Fat supply quantity (g/capita/day)          10225.56\n",
       "Feed                                       216927.89\n",
       "Food                                      1212332.49\n",
       "Food supply (kcal/capita/day)              454257.00\n",
       "Food supply quantity (kg/capita/yr)         49650.63\n",
       "Import Quantity                            274144.48\n",
       "Losses                                     153223.00\n",
       "Other uses (non-food)                       78718.13\n",
       "Processing                                 282923.00\n",
       "Production                                1931287.75\n",
       "Protein supply quantity (g/capita/day)      11836.46\n",
       "Residuals                                   30149.00\n",
       "Seed                                        21922.92\n",
       "Stock Variation                             58749.83\n",
       "Total Population - Both sexes             1031585.00\n",
       "Tourist consumption                           416.00\n",
       "Name: Y2014, dtype: float64"
      ]
     },
     "execution_count": 67,
     "metadata": {},
     "output_type": "execute_result"
    }
   ],
   "source": [
    "DataSet.groupby('Element')['Y2017'].sum()   #question 15"
   ]
  },
  {
   "cell_type": "code",
   "execution_count": 23,
   "id": "b88817a5-17cd-4e80-b1e9-c0880a184445",
   "metadata": {
    "collapsed": true,
    "jupyter": {
     "outputs_hidden": true
    },
    "tags": []
   },
   "outputs": [
    {
     "data": {
      "text/plain": [
       "Element\n",
       "Domestic supply quantity                  5245\n",
       "Export Quantity                           3704\n",
       "Fat supply quantity (g/capita/day)        4974\n",
       "Feed                                      1177\n",
       "Food                                      4901\n",
       "Food supply (kcal/capita/day)             4955\n",
       "Food supply quantity (kg/capita/yr)       4865\n",
       "Import Quantity                           4911\n",
       "Losses                                    2009\n",
       "Other uses (non-food)                     1667\n",
       "Processing                                1995\n",
       "Production                                3828\n",
       "Protein supply quantity (g/capita/day)    4971\n",
       "Residuals                                 4605\n",
       "Seed                                       759\n",
       "Stock Variation                           4229\n",
       "Total Population - Both sexes               45\n",
       "Tourist consumption                        555\n",
       "Name: Y2015, dtype: int64"
      ]
     },
     "execution_count": 23,
     "metadata": {},
     "output_type": "execute_result"
    }
   ],
   "source": [
    "DataSet.groupby('Element')['Y2015'].sum()#question 15"
   ]
  },
  {
   "cell_type": "code",
   "execution_count": 24,
   "id": "0e03336a-5a44-4911-b43c-69c00539ac1b",
   "metadata": {
    "collapsed": true,
    "jupyter": {
     "outputs_hidden": true
    },
    "tags": []
   },
   "outputs": [
    {
     "data": {
      "text/plain": [
       "Element\n",
       "Domestic supply quantity                  5244\n",
       "Export Quantity                           3660\n",
       "Fat supply quantity (g/capita/day)        4965\n",
       "Feed                                      1216\n",
       "Food                                      4896\n",
       "Food supply (kcal/capita/day)             4947\n",
       "Food supply quantity (kg/capita/yr)       4860\n",
       "Import Quantity                           4919\n",
       "Losses                                    2009\n",
       "Other uses (non-food)                     1662\n",
       "Processing                                1987\n",
       "Production                                3830\n",
       "Protein supply quantity (g/capita/day)    4963\n",
       "Residuals                                 4604\n",
       "Seed                                       762\n",
       "Stock Variation                           4230\n",
       "Total Population - Both sexes               45\n",
       "Tourist consumption                        555\n",
       "Name: Y2014, dtype: int64"
      ]
     },
     "execution_count": 24,
     "metadata": {},
     "output_type": "execute_result"
    }
   ],
   "source": [
    "DataSet.groupby('Element')['Y2014'].sum()#question 15"
   ]
  },
  {
   "cell_type": "code",
   "execution_count": 69,
   "id": "6dc84407-6940-432c-86e9-424964f2c153",
   "metadata": {
    "collapsed": true,
    "jupyter": {
     "outputs_hidden": true
    },
    "tags": []
   },
   "outputs": [
    {
     "data": {
      "text/plain": [
       "Area\n",
       "Algeria                        1313\n",
       "Angola                         1424\n",
       "Benin                          1285\n",
       "Botswana                       1378\n",
       "Burkina Faso                   1409\n",
       "Cabo Verde                     1260\n",
       "Cameroon                       1460\n",
       "Central African Republic       1344\n",
       "Chad                           1343\n",
       "Comoros                          45\n",
       "Congo                          1413\n",
       "Côte d'Ivoire                  1467\n",
       "Djibouti                       1095\n",
       "Egypt                          1488\n",
       "Eswatini                       1284\n",
       "Ethiopia                       1447\n",
       "Ethiopia PDR                     39\n",
       "Gabon                          1245\n",
       "Gambia                         1168\n",
       "Ghana                          1354\n",
       "Guinea                         1410\n",
       "Guinea-Bissau                  1128\n",
       "Kenya                          1560\n",
       "Lesotho                        1150\n",
       "Liberia                        1206\n",
       "Madagascar                     1439\n",
       "Malawi                         1447\n",
       "Mali                           1293\n",
       "Mauritania                     1195\n",
       "Mauritius                      1378\n",
       "Morocco                        1393\n",
       "Mozambique                     1427\n",
       "Namibia                        1283\n",
       "Niger                          1403\n",
       "Nigeria                        1474\n",
       "Rwanda                         1426\n",
       "Sao Tome and Principe          1177\n",
       "Senegal                        1462\n",
       "Seychelles                       68\n",
       "Sierra Leone                   1242\n",
       "South Africa                   1399\n",
       "Sudan                          1316\n",
       "Sudan (former)                   53\n",
       "Togo                           1294\n",
       "Tunisia                        1338\n",
       "Uganda                         1458\n",
       "United Republic of Tanzania    1419\n",
       "Zambia                         1451\n",
       "Zimbabwe                       1393\n",
       "Name: Area, dtype: int64"
      ]
     },
     "execution_count": 69,
     "metadata": {},
     "output_type": "execute_result"
    }
   ],
   "source": [
    "DataSet.groupby('Area')['Area'].count()  #sum of uniques countrries #question 20"
   ]
  },
  {
   "cell_type": "code",
   "execution_count": 32,
   "id": "f19d7561-a5ac-459c-809f-7953f1367e33",
   "metadata": {
    "collapsed": true,
    "jupyter": {
     "outputs_hidden": true
    },
    "tags": []
   },
   "outputs": [
    {
     "data": {
      "text/plain": [
       "Element\n",
       "Domestic supply quantity                  5256\n",
       "Export Quantity                           3646\n",
       "Fat supply quantity (g/capita/day)        4987\n",
       "Feed                                      1225\n",
       "Food                                      4913\n",
       "Food supply (kcal/capita/day)             4969\n",
       "Food supply quantity (kg/capita/yr)       4877\n",
       "Import Quantity                           4945\n",
       "Losses                                    2008\n",
       "Other uses (non-food)                     1655\n",
       "Processing                                2003\n",
       "Production                                3846\n",
       "Protein supply quantity (g/capita/day)    4986\n",
       "Residuals                                 4616\n",
       "Seed                                       758\n",
       "Stock Variation                           4217\n",
       "Total Population - Both sexes               45\n",
       "Tourist consumption                        555\n",
       "Name: Y2018, dtype: int64"
      ]
     },
     "execution_count": 32,
     "metadata": {},
     "output_type": "execute_result"
    }
   ],
   "source": [
    "DataSet.groupby('Element')['Y2018'].count()   #sum of algeria import"
   ]
  },
  {
   "cell_type": "code",
   "execution_count": 27,
   "id": "5366d1c7-2d08-4f46-a4f5-be7b92dadb5e",
   "metadata": {},
   "outputs": [
    {
     "data": {
      "text/plain": [
       "False"
      ]
     },
     "execution_count": 27,
     "metadata": {},
     "output_type": "execute_result"
    }
   ],
   "source": [
    "DataSet.duplicated().any()"
   ]
  },
  {
   "cell_type": "code",
   "execution_count": 70,
   "id": "efc8fcd6-cb7a-4f44-9844-112f56bd702a",
   "metadata": {
    "collapsed": true,
    "jupyter": {
     "outputs_hidden": true
    },
    "tags": []
   },
   "outputs": [
    {
     "data": {
      "text/plain": [
       "Element\n",
       "Domestic supply quantity                  2161192.10\n",
       "Export Quantity                            181594.80\n",
       "Fat supply quantity (g/capita/day)          10258.69\n",
       "Feed                                       233489.68\n",
       "Food                                      1303841.28\n",
       "Food supply (kcal/capita/day)              455261.00\n",
       "Food supply quantity (kg/capita/yr)         49056.85\n",
       "Import Quantity                            287997.09\n",
       "Losses                                     163902.00\n",
       "Other uses (non-food)                       91300.97\n",
       "Processing                                 308429.00\n",
       "Production                                2075072.89\n",
       "Protein supply quantity (g/capita/day)      11833.56\n",
       "Residuals                                   34864.00\n",
       "Seed                                        25263.14\n",
       "Stock Variation                             20577.91\n",
       "Total Population - Both sexes             1140605.00\n",
       "Tourist consumption                            90.00\n",
       "Name: Y2018, dtype: float64"
      ]
     },
     "execution_count": 70,
     "metadata": {},
     "output_type": "execute_result"
    }
   ],
   "source": [
    "DataSet.groupby('Element')['Y2018'].sum()    #highest sum question 17/18"
   ]
  },
  {
   "cell_type": "code",
   "execution_count": 74,
   "id": "5d5443f5-6e04-4d8d-b4f6-5be73a4030fb",
   "metadata": {
    "collapsed": true,
    "jupyter": {
     "outputs_hidden": true
    },
    "tags": []
   },
   "outputs": [
    {
     "data": {
      "text/plain": [
       "Area\n",
       "Algeria                        Total Population - Both sexesDomestic supply q...\n",
       "Angola                         Total Population - Both sexesDomestic supply q...\n",
       "Benin                          Total Population - Both sexesDomestic supply q...\n",
       "Botswana                       Total Population - Both sexesDomestic supply q...\n",
       "Burkina Faso                   Total Population - Both sexesDomestic supply q...\n",
       "Cabo Verde                     Total Population - Both sexesDomestic supply q...\n",
       "Cameroon                       Total Population - Both sexesDomestic supply q...\n",
       "Central African Republic       Total Population - Both sexesDomestic supply q...\n",
       "Chad                           Total Population - Both sexesDomestic supply q...\n",
       "Comoros                        Import QuantityDomestic supply quantityOther u...\n",
       "Congo                          Total Population - Both sexesDomestic supply q...\n",
       "Côte d'Ivoire                  Total Population - Both sexesDomestic supply q...\n",
       "Djibouti                       Total Population - Both sexesDomestic supply q...\n",
       "Egypt                          Total Population - Both sexesDomestic supply q...\n",
       "Eswatini                       Total Population - Both sexesDomestic supply q...\n",
       "Ethiopia                       Total Population - Both sexesDomestic supply q...\n",
       "Ethiopia PDR                   Import QuantityDomestic supply quantityOther u...\n",
       "Gabon                          Total Population - Both sexesDomestic supply q...\n",
       "Gambia                         Total Population - Both sexesDomestic supply q...\n",
       "Ghana                          Total Population - Both sexesDomestic supply q...\n",
       "Guinea                         Total Population - Both sexesDomestic supply q...\n",
       "Guinea-Bissau                  Total Population - Both sexesDomestic supply q...\n",
       "Kenya                          Total Population - Both sexesDomestic supply q...\n",
       "Lesotho                        Total Population - Both sexesDomestic supply q...\n",
       "Liberia                        Total Population - Both sexesDomestic supply q...\n",
       "Madagascar                     Total Population - Both sexesDomestic supply q...\n",
       "Malawi                         Total Population - Both sexesDomestic supply q...\n",
       "Mali                           Total Population - Both sexesDomestic supply q...\n",
       "Mauritania                     Total Population - Both sexesDomestic supply q...\n",
       "Mauritius                      Total Population - Both sexesDomestic supply q...\n",
       "Morocco                        Total Population - Both sexesDomestic supply q...\n",
       "Mozambique                     Total Population - Both sexesDomestic supply q...\n",
       "Namibia                        Total Population - Both sexesDomestic supply q...\n",
       "Niger                          Total Population - Both sexesDomestic supply q...\n",
       "Nigeria                        Total Population - Both sexesDomestic supply q...\n",
       "Rwanda                         Total Population - Both sexesDomestic supply q...\n",
       "Sao Tome and Principe          Total Population - Both sexesDomestic supply q...\n",
       "Senegal                        Total Population - Both sexesDomestic supply q...\n",
       "Seychelles                     ProductionImport QuantityStock VariationExport...\n",
       "Sierra Leone                   Total Population - Both sexesDomestic supply q...\n",
       "South Africa                   Total Population - Both sexesDomestic supply q...\n",
       "Sudan                          Total Population - Both sexesDomestic supply q...\n",
       "Sudan (former)                 Import QuantityDomestic supply quantityFeedOth...\n",
       "Togo                           Total Population - Both sexesDomestic supply q...\n",
       "Tunisia                        Total Population - Both sexesDomestic supply q...\n",
       "Uganda                         Total Population - Both sexesDomestic supply q...\n",
       "United Republic of Tanzania    Total Population - Both sexesDomestic supply q...\n",
       "Zambia                         Total Population - Both sexesDomestic supply q...\n",
       "Zimbabwe                       Total Population - Both sexesDomestic supply q...\n",
       "Name: Element, dtype: object"
      ]
     },
     "execution_count": 74,
     "metadata": {},
     "output_type": "execute_result"
    }
   ],
   "source": [
    "DataSet.groupby('Area')['Element'].sum()   #sum of algeria import question 19"
   ]
  },
  {
   "cell_type": "code",
   "execution_count": 38,
   "id": "57833e8b-ad3b-482c-b674-4d4135b0e748",
   "metadata": {
    "collapsed": true,
    "jupyter": {
     "outputs_hidden": true
    },
    "tags": []
   },
   "outputs": [
    {
     "data": {
      "text/plain": [
       "Element\n",
       "Domestic supply quantity                  1996716.35\n",
       "Export Quantity                            150020.64\n",
       "Fat supply quantity (g/capita/day)          10225.56\n",
       "Feed                                       216927.89\n",
       "Food                                      1212332.49\n",
       "Food supply (kcal/capita/day)              454257.00\n",
       "Food supply quantity (kg/capita/yr)         49650.63\n",
       "Import Quantity                            274144.48\n",
       "Losses                                     153223.00\n",
       "Other uses (non-food)                       78718.13\n",
       "Processing                                 282923.00\n",
       "Production                                1931287.75\n",
       "Protein supply quantity (g/capita/day)      11836.46\n",
       "Residuals                                   30149.00\n",
       "Seed                                        21922.92\n",
       "Stock Variation                             58749.83\n",
       "Total Population - Both sexes             1031585.00\n",
       "Tourist consumption                           416.00\n",
       "Name: Y2014, dtype: float64"
      ]
     },
     "execution_count": 38,
     "metadata": {},
     "output_type": "execute_result"
    }
   ],
   "source": [
    "DataSet.groupby('Element')['Y2014'].sum()   #question 16"
   ]
  },
  {
   "cell_type": "code",
   "execution_count": 39,
   "id": "3a2c0ab5-20d1-4793-9b2a-fabba2e05669",
   "metadata": {
    "collapsed": true,
    "jupyter": {
     "outputs_hidden": true
    },
    "tags": []
   },
   "outputs": [
    {
     "data": {
      "text/plain": [
       "Item\n",
       "Alcohol, Non-Food        2403.00\n",
       "Alcoholic Beverages    102410.11\n",
       "Animal Products         11935.65\n",
       "Animal fats            209460.54\n",
       "Apples and products      9499.23\n",
       "                         ...    \n",
       "Vegetables, Other      155038.96\n",
       "Vegetal Products       107145.19\n",
       "Wheat and products     232670.13\n",
       "Wine                     4497.36\n",
       "Yams                   200396.96\n",
       "Name: Y2014, Length: 119, dtype: float64"
      ]
     },
     "execution_count": 39,
     "metadata": {},
     "output_type": "execute_result"
    }
   ],
   "source": [
    "DataSet.groupby('Item')['Y2014'].sum()   #question 11"
   ]
  },
  {
   "cell_type": "code",
   "execution_count": 40,
   "id": "aa6fe5c7-81d0-4dc7-9382-f39ecbcad5aa",
   "metadata": {
    "tags": []
   },
   "outputs": [
    {
     "data": {
      "text/plain": [
       "Item\n",
       "Alcohol, Non-Food        2348.00\n",
       "Alcoholic Beverages     95581.06\n",
       "Animal Products         11547.65\n",
       "Animal fats            269617.53\n",
       "Apples and products     10198.90\n",
       "                         ...    \n",
       "Vegetables, Other      157752.59\n",
       "Vegetal Products       107655.20\n",
       "Wheat and products     240047.62\n",
       "Wine                     4178.02\n",
       "Yams                   229174.59\n",
       "Name: Y2017, Length: 119, dtype: float64"
      ]
     },
     "execution_count": 40,
     "metadata": {},
     "output_type": "execute_result"
    }
   ],
   "source": [
    "DataSet.groupby('Item')['Y2017'].sum()   #question 11"
   ]
  },
  {
   "cell_type": "code",
   "execution_count": null,
   "id": "c5c59e75-053a-4e96-990c-c49c5bc63a21",
   "metadata": {},
   "outputs": [],
   "source": []
  }
 ],
 "metadata": {
  "kernelspec": {
   "display_name": "Python 3 (ipykernel)",
   "language": "python",
   "name": "python3"
  },
  "language_info": {
   "codemirror_mode": {
    "name": "ipython",
    "version": 3
   },
   "file_extension": ".py",
   "mimetype": "text/x-python",
   "name": "python",
   "nbconvert_exporter": "python",
   "pygments_lexer": "ipython3",
   "version": "3.9.7"
  }
 },
 "nbformat": 4,
 "nbformat_minor": 5
}
